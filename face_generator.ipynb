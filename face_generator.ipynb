{
  "cells": [
    {
      "cell_type": "markdown",
      "metadata": {
        "id": "view-in-github",
        "colab_type": "text"
      },
      "source": [
        "<a href=\"https://colab.research.google.com/github/aniket9763/face_generator/blob/main/face_generator.ipynb\" target=\"_parent\"><img src=\"https://colab.research.google.com/assets/colab-badge.svg\" alt=\"Open In Colab\"/></a>"
      ]
    },
    {
      "cell_type": "code",
      "execution_count": null,
      "metadata": {
        "id": "EFs_Ie1jWXj5"
      },
      "outputs": [],
      "source": [
        "def hms_string(sec_elapsed):\n",
        "    h = int(sec_elapsed / (60 * 60))\n",
        "    m = int((sec_elapsed % (60 * 60)) / 60)\n",
        "    s = sec_elapsed % 60\n",
        "    return \"{}:{:>02}:{:>05.2f}\".format(h, m, s)"
      ]
    },
    {
      "cell_type": "code",
      "execution_count": null,
      "metadata": {
        "id": "7Fxgnu9KWjkL"
      },
      "outputs": [],
      "source": [
        "import tensorflow as tf\n",
        "from tensorflow.keras.layers import Input, Reshape, Dropout, Dense \n",
        "from tensorflow.keras.layers import Flatten, BatchNormalization\n",
        "from tensorflow.keras.layers import Activation, ZeroPadding2D\n",
        "from tensorflow.keras.layers import LeakyReLU\n",
        "from tensorflow.keras.layers import UpSampling2D, Conv2D\n",
        "from tensorflow.keras.models import Sequential, Model, load_model\n",
        "from tensorflow.keras.optimizers import Adam\n",
        "import numpy as np\n",
        "from PIL import Image\n",
        "from tqdm import tqdm\n",
        "import os \n",
        "import time\n",
        "import matplotlib.pyplot as plt"
      ]
    },
    {
      "cell_type": "code",
      "execution_count": null,
      "metadata": {
        "colab": {
          "base_uri": "https://localhost:8080/"
        },
        "id": "yCSpc9GnWnvx",
        "outputId": "e07f927a-9d6c-4d56-b7de-8dc8cc1b15da"
      },
      "outputs": [
        {
          "output_type": "stream",
          "name": "stdout",
          "text": [
            "Mounted at /content/drive\n"
          ]
        }
      ],
      "source": [
        "from google.colab import drive\n",
        "drive.mount('/content/drive')"
      ]
    },
    {
      "cell_type": "code",
      "execution_count": null,
      "metadata": {
        "colab": {
          "base_uri": "https://localhost:8080/"
        },
        "id": "MTer1YBrW_sr",
        "outputId": "7a8785f6-605e-4dcb-fbee-6b5ca2ea3d4d"
      },
      "outputs": [
        {
          "output_type": "stream",
          "name": "stdout",
          "text": [
            "Will generate 96px square images.\n"
          ]
        }
      ],
      "source": [
        "# Generation resolution - Must be square \n",
        "# Training data is also scaled to this.\n",
        "# Note GENERATE_RES 4 or higher  \n",
        "# will blow Google CoLab's memory and have not\n",
        "# been tested extensivly.\n",
        "GENERATE_RES = 3 # Generation resolution factor \n",
        "# (1=32, 2=64, 3=96, 4=128, etc.)\n",
        "GENERATE_SQUARE = 32 * GENERATE_RES # rows/cols (should be square)\n",
        "IMAGE_CHANNELS = 3\n",
        "\n",
        "# Preview image \n",
        "PREVIEW_ROWS = 4\n",
        "PREVIEW_COLS = 7\n",
        "PREVIEW_MARGIN = 16\n",
        "\n",
        "# Size vector to generate images from\n",
        "SEED_SIZE = 100\n",
        "\n",
        "# Configuration\n",
        "DATA_PATH = '/content/drive/MyDrive/face_reco/projects'\n",
        "EPOCHS = 100\n",
        "BATCH_SIZE = 32\n",
        "BUFFER_SIZE = 60000\n",
        "\n",
        "print(f\"Will generate {GENERATE_SQUARE}px square images.\")"
      ]
    },
    {
      "cell_type": "code",
      "execution_count": null,
      "metadata": {
        "colab": {
          "base_uri": "https://localhost:8080/"
        },
        "id": "_GFdON2iKHk5",
        "outputId": "d147c4c7-170d-446d-8d6f-2a06726db061"
      },
      "outputs": [
        {
          "output_type": "stream",
          "name": "stdout",
          "text": [
            "Looking for file: /content/drive/MyDrive/face_reco/projects/training_data_96_96.npy\n",
            "Loading previous training pickle...\n"
          ]
        }
      ],
      "source": [
        "# Image set has 11,682 images.  Can take over an hour \n",
        "# for initial preprocessing.\n",
        "# Because of this time needed, save a Numpy preprocessed file.\n",
        "# Note, that file is large enough to cause problems for \n",
        "# sume verisons of Pickle,\n",
        "# so Numpy binary files are used.\n",
        "training_binary_path = os.path.join(DATA_PATH,\n",
        "        f'training_data_{GENERATE_SQUARE}_{GENERATE_SQUARE}.npy')\n",
        "\n",
        "print(f\"Looking for file: {training_binary_path}\")\n",
        "\n",
        "if not os.path.isfile(training_binary_path):\n",
        "  start = time.time()\n",
        "  print(\"Loading training images...\")\n",
        "\n",
        "  training_data = []\n",
        "  faces_path = os.path.join(DATA_PATH,'/content/drive/MyDrive/face_reco/projects')\n",
        "  for filename in tqdm(os.listdir(faces_path)):\n",
        "      path = os.path.join(faces_path,filename)\n",
        "      image = Image.open(path).resize((GENERATE_SQUARE,\n",
        "            GENERATE_SQUARE),Image.ANTIALIAS)\n",
        "      training_data.append(np.asarray(image))\n",
        "  training_data = np.reshape(training_data,(-1,GENERATE_SQUARE,\n",
        "            GENERATE_SQUARE,IMAGE_CHANNELS))\n",
        "  training_data = training_data.astype(np.float32)\n",
        "  training_data = training_data / 127.5 - 1.\n",
        "\n",
        "\n",
        "  print(\"Saving training image binary...\")\n",
        "  np.save(training_binary_path,training_data)\n",
        "  elapsed = time.time()-start\n",
        "  print (f'Image preprocess time: {hms_string(elapsed)}')\n",
        "else:\n",
        "  print(\"Loading previous training pickle...\")\n",
        "  training_data = np.load(training_binary_path)"
      ]
    },
    {
      "cell_type": "code",
      "execution_count": null,
      "metadata": {
        "id": "IH18lXQjMAC8"
      },
      "outputs": [],
      "source": [
        "train_dataset = tf.data.Dataset.from_tensor_slices(training_data) \\\n",
        "    .shuffle(BUFFER_SIZE).batch(BATCH_SIZE)"
      ]
    },
    {
      "cell_type": "code",
      "execution_count": null,
      "metadata": {
        "id": "mP4V9ghnMdNI"
      },
      "outputs": [],
      "source": [
        "def build_generator(seed_size, channels):\n",
        "    model = Sequential()\n",
        "\n",
        "    model.add(Dense(4*4*256,activation=\"relu\",input_dim=seed_size))\n",
        "    model.add(Reshape((4,4,256)))\n",
        "\n",
        "    model.add(UpSampling2D())\n",
        "    model.add(Conv2D(256,kernel_size=3,padding=\"same\"))\n",
        "    model.add(BatchNormalization(momentum=0.8))\n",
        "    model.add(Activation(\"relu\"))\n",
        "\n",
        "    model.add(UpSampling2D())\n",
        "    model.add(Conv2D(256,kernel_size=3,padding=\"same\"))\n",
        "    model.add(BatchNormalization(momentum=0.8))\n",
        "    model.add(Activation(\"relu\"))\n",
        "   \n",
        "    # Output resolution, additional upsampling\n",
        "    model.add(UpSampling2D())\n",
        "    model.add(Conv2D(128,kernel_size=3,padding=\"same\"))\n",
        "    model.add(BatchNormalization(momentum=0.8))\n",
        "    model.add(Activation(\"relu\"))\n",
        "\n",
        "    if GENERATE_RES>1:\n",
        "      model.add(UpSampling2D(size=(GENERATE_RES,GENERATE_RES)))\n",
        "      model.add(Conv2D(128,kernel_size=3,padding=\"same\"))\n",
        "      model.add(BatchNormalization(momentum=0.8))\n",
        "      model.add(Activation(\"relu\"))\n",
        "\n",
        "    # Final CNN layer\n",
        "    model.add(Conv2D(channels,kernel_size=3,padding=\"same\"))\n",
        "    model.add(Activation(\"tanh\"))\n",
        "\n",
        "    return model\n",
        "\n",
        "\n",
        "def build_discriminator(image_shape):\n",
        "    model = Sequential()\n",
        "\n",
        "    model.add(Conv2D(32, kernel_size=3, strides=2, input_shape=image_shape, \n",
        "                     padding=\"same\"))\n",
        "    model.add(LeakyReLU(alpha=0.2))\n",
        "\n",
        "    model.add(Dropout(0.25))\n",
        "    model.add(Conv2D(64, kernel_size=3, strides=2, padding=\"same\"))\n",
        "    model.add(ZeroPadding2D(padding=((0,1),(0,1))))\n",
        "    model.add(BatchNormalization(momentum=0.8))\n",
        "    model.add(LeakyReLU(alpha=0.2))\n",
        "\n",
        "    model.add(Dropout(0.25))\n",
        "    model.add(Conv2D(128, kernel_size=3, strides=2, padding=\"same\"))\n",
        "    model.add(BatchNormalization(momentum=0.8))\n",
        "    model.add(LeakyReLU(alpha=0.2))\n",
        "\n",
        "    model.add(Dropout(0.25))\n",
        "    model.add(Conv2D(256, kernel_size=3, strides=1, padding=\"same\"))\n",
        "    model.add(BatchNormalization(momentum=0.8))\n",
        "    model.add(LeakyReLU(alpha=0.2))\n",
        "\n",
        "    model.add(Dropout(0.25))\n",
        "    model.add(Conv2D(512, kernel_size=3, strides=1, padding=\"same\"))\n",
        "    model.add(BatchNormalization(momentum=0.8))\n",
        "    model.add(LeakyReLU(alpha=0.2))\n",
        "\n",
        "    model.add(Dropout(0.25))\n",
        "    model.add(Flatten())\n",
        "    model.add(Dense(1, activation='sigmoid'))\n",
        "\n",
        "    return model"
      ]
    },
    {
      "cell_type": "code",
      "execution_count": null,
      "metadata": {
        "id": "zazrsOgmNMk_"
      },
      "outputs": [],
      "source": [
        "def save_images(cnt,noise):\n",
        "  image_array = np.full(( \n",
        "      PREVIEW_MARGIN + (PREVIEW_ROWS * (GENERATE_SQUARE+PREVIEW_MARGIN)), \n",
        "      PREVIEW_MARGIN + (PREVIEW_COLS * (GENERATE_SQUARE+PREVIEW_MARGIN)), IMAGE_CHANNELS), \n",
        "      255, dtype=np.uint8)\n",
        "  \n",
        "  generated_images = generator.predict(noise)\n",
        "\n",
        "  generated_images = 0.5 * generated_images + 0.5\n",
        "\n",
        "  image_count = 0\n",
        "  for row in range(PREVIEW_ROWS):\n",
        "      for col in range(PREVIEW_COLS):\n",
        "        r = row * (GENERATE_SQUARE+16) + PREVIEW_MARGIN\n",
        "        c = col * (GENERATE_SQUARE+16) + PREVIEW_MARGIN\n",
        "        image_array[r:r+GENERATE_SQUARE,c:c+GENERATE_SQUARE] \\\n",
        "            = generated_images[image_count] * 255\n",
        "        image_count += 1\n",
        "\n",
        "          \n",
        "  output_path = os.path.join(DATA_PATH,'output')\n",
        "  if not os.path.exists(output_path):\n",
        "    os.makedirs(output_path)\n",
        "  \n",
        "  filename = os.path.join(output_path,f\"train-{cnt}.png\")\n",
        "  im = Image.fromarray(image_array)\n",
        "  im.save(filename)"
      ]
    },
    {
      "cell_type": "code",
      "execution_count": null,
      "metadata": {
        "colab": {
          "base_uri": "https://localhost:8080/",
          "height": 285
        },
        "id": "HjhNq-6CNmij",
        "outputId": "a891b57e-e39c-4761-eb56-80c5dd2635af"
      },
      "outputs": [
        {
          "output_type": "execute_result",
          "data": {
            "text/plain": [
              "<matplotlib.image.AxesImage at 0x7f9bce12d9d0>"
            ]
          },
          "metadata": {},
          "execution_count": 30
        },
        {
          "output_type": "display_data",
          "data": {
            "text/plain": [
              "<Figure size 432x288 with 1 Axes>"
            ],
            "image/png": "[encoded data removed]"
          },
          "metadata": {
            "needs_background": "light"
          }
        }
      ],
      "source": [
        "generator = build_generator(SEED_SIZE, IMAGE_CHANNELS)\n",
        "\n",
        "noise = tf.random.normal([1, SEED_SIZE])\n",
        "generated_image = generator(noise, training=False)\n",
        "\n",
        "plt.imshow(generated_image[0, :, :, 0])"
      ]
    },
    {
      "cell_type": "code",
      "execution_count": null,
      "metadata": {
        "colab": {
          "base_uri": "https://localhost:8080/"
        },
        "id": "VuyCUqESOLFK",
        "outputId": "72af358f-dd51-4253-cdda-95441a17ed46"
      },
      "outputs": [
        {
          "output_type": "stream",
          "name": "stdout",
          "text": [
            "tf.Tensor([[0.4998776]], shape=(1, 1), dtype=float32)\n"
          ]
        }
      ],
      "source": [
        "image_shape = (GENERATE_SQUARE,GENERATE_SQUARE,IMAGE_CHANNELS)\n",
        "\n",
        "discriminator = build_discriminator(image_shape)\n",
        "decision = discriminator(generated_image)\n",
        "print (decision)"
      ]
    },
    {
      "cell_type": "code",
      "execution_count": null,
      "metadata": {
        "id": "FfAW_azkOQuS"
      },
      "outputs": [],
      "source": [
        "# This method returns a helper function to compute cross entropy loss\n",
        "cross_entropy = tf.keras.losses.BinaryCrossentropy()\n",
        "\n",
        "def discriminator_loss(real_output, fake_output):\n",
        "    real_loss = cross_entropy(tf.ones_like(real_output), real_output)\n",
        "    fake_loss = cross_entropy(tf.zeros_like(fake_output), fake_output)\n",
        "    total_loss = real_loss + fake_loss\n",
        "    return total_loss\n",
        "\n",
        "def generator_loss(fake_output):\n",
        "    return cross_entropy(tf.ones_like(fake_output), fake_output)"
      ]
    },
    {
      "cell_type": "code",
      "execution_count": null,
      "metadata": {
        "id": "88RovnWsOhIw"
      },
      "outputs": [],
      "source": [
        "generator_optimizer = tf.keras.optimizers.Adam(1.5e-4,0.5)\n",
        "discriminator_optimizer = tf.keras.optimizers.Adam(1.5e-4,0.5)"
      ]
    },
    {
      "cell_type": "code",
      "execution_count": null,
      "metadata": {
        "id": "VQtCBChnOkYC"
      },
      "outputs": [],
      "source": [
        "# Notice the use of `tf.function`\n",
        "# This annotation causes the function to be \"compiled\".\n",
        "@tf.function\n",
        "def train_step(images):\n",
        "  seed = tf.random.normal([BATCH_SIZE, SEED_SIZE])\n",
        "\n",
        "  with tf.GradientTape() as gen_tape, tf.GradientTape() as disc_tape:\n",
        "    generated_images = generator(seed, training=True)\n",
        "\n",
        "    real_output = discriminator(images, training=True)\n",
        "    fake_output = discriminator(generated_images, training=True)\n",
        "\n",
        "    gen_loss = generator_loss(fake_output)\n",
        "    disc_loss = discriminator_loss(real_output, fake_output)\n",
        "    \n",
        "\n",
        "    gradients_of_generator = gen_tape.gradient(\\\n",
        "        gen_loss, generator.trainable_variables)\n",
        "    gradients_of_discriminator = disc_tape.gradient(\\\n",
        "        disc_loss, discriminator.trainable_variables)\n",
        "\n",
        "    generator_optimizer.apply_gradients(zip(\n",
        "        gradients_of_generator, generator.trainable_variables))\n",
        "    discriminator_optimizer.apply_gradients(zip(\n",
        "        gradients_of_discriminator, \n",
        "        discriminator.trainable_variables))\n",
        "  return gen_loss,disc_loss"
      ]
    },
    {
      "cell_type": "code",
      "execution_count": null,
      "metadata": {
        "id": "KIAnYmUXOqjz"
      },
      "outputs": [],
      "source": [
        "def train(dataset, epochs):\n",
        "  fixed_seed = np.random.normal(0, 1, (PREVIEW_ROWS * PREVIEW_COLS, \n",
        "                                       SEED_SIZE))\n",
        "  start = time.time()\n",
        "\n",
        "  for epoch in range(epochs):\n",
        "    epoch_start = time.time()\n",
        "\n",
        "    gen_loss_list = []\n",
        "    disc_loss_list = []\n",
        "\n",
        "    for image_batch in dataset:\n",
        "      t = train_step(image_batch)\n",
        "      gen_loss_list.append(t[0])\n",
        "      disc_loss_list.append(t[1])\n",
        "\n",
        "    g_loss = sum(gen_loss_list) / len(gen_loss_list)\n",
        "    d_loss = sum(disc_loss_list) / len(disc_loss_list)\n",
        "\n",
        "    epoch_elapsed = time.time()-epoch_start\n",
        "    print (f'Epoch {epoch+1}, gen loss={g_loss},disc loss={d_loss},'\\\n",
        "           f' {hms_string(epoch_elapsed)}')\n",
        "    save_images(epoch,fixed_seed)\n",
        "\n",
        "  elapsed = time.time()-start\n",
        "  print (f'Training time: {hms_string(elapsed)}')"
      ]
    },
    {
      "cell_type": "code",
      "execution_count": null,
      "metadata": {
        "colab": {
          "base_uri": "https://localhost:8080/"
        },
        "id": "V4lLlw5bO0_A",
        "outputId": "0c5fc858-0b6c-4450-fbfa-e749833f503f"
      },
      "outputs": [
        {
          "output_type": "stream",
          "name": "stdout",
          "text": [
            "Epoch 1, gen loss=2.331482410430908,disc loss=0.8375285863876343, 0:00:13.92\n",
            "Epoch 2, gen loss=2.8062057495117188,disc loss=0.8391256928443909, 0:00:06.73\n",
            "Epoch 3, gen loss=3.228693962097168,disc loss=0.9655517935752869, 0:00:06.72\n",
            "Epoch 4, gen loss=2.851734161376953,disc loss=0.9142842888832092, 0:00:06.80\n",
            "Epoch 5, gen loss=3.402580738067627,disc loss=0.7595346570014954, 0:00:06.88\n",
            "Epoch 6, gen loss=3.059224843978882,disc loss=0.8298093676567078, 0:00:06.99\n",
            "Epoch 7, gen loss=3.2960963249206543,disc loss=0.7040989995002747, 0:00:06.94\n",
            "Epoch 8, gen loss=3.6234612464904785,disc loss=0.6556323170661926, 0:00:06.86\n",
            "Epoch 9, gen loss=3.5386385917663574,disc loss=0.6620354056358337, 0:00:06.79\n",
            "Epoch 10, gen loss=3.5176098346710205,disc loss=0.7993013262748718, 0:00:06.76\n",
            "Epoch 11, gen loss=3.0404951572418213,disc loss=0.8268961310386658, 0:00:06.74\n",
            "Epoch 12, gen loss=2.7511003017425537,disc loss=0.8877792358398438, 0:00:06.71\n",
            "Epoch 13, gen loss=2.8682570457458496,disc loss=0.9244101047515869, 0:00:06.72\n",
            "Epoch 14, gen loss=2.7887282371520996,disc loss=0.795464813709259, 0:00:06.70\n",
            "Epoch 15, gen loss=2.896503210067749,disc loss=0.7887770533561707, 0:00:06.74\n",
            "Epoch 16, gen loss=2.9636218547821045,disc loss=0.7948862910270691, 0:00:06.76\n",
            "Epoch 17, gen loss=2.8784470558166504,disc loss=0.8110933303833008, 0:00:06.81\n",
            "Epoch 18, gen loss=2.8867552280426025,disc loss=0.7741586565971375, 0:00:06.84\n",
            "Epoch 19, gen loss=2.9493958950042725,disc loss=0.801314115524292, 0:00:06.84\n",
            "Epoch 20, gen loss=2.8333616256713867,disc loss=0.7417715191841125, 0:00:06.82\n",
            "Epoch 21, gen loss=2.940762519836426,disc loss=0.7126134634017944, 0:00:06.84\n",
            "Epoch 22, gen loss=2.8468446731567383,disc loss=0.6738197207450867, 0:00:06.74\n",
            "Epoch 23, gen loss=2.9779791831970215,disc loss=0.748477578163147, 0:00:06.75\n",
            "Epoch 24, gen loss=3.076958179473877,disc loss=0.6961249709129333, 0:00:06.76\n",
            "Epoch 25, gen loss=3.1000287532806396,disc loss=0.7782782912254333, 0:00:06.75\n",
            "Epoch 26, gen loss=3.2544403076171875,disc loss=0.7556514143943787, 0:00:06.74\n",
            "Epoch 27, gen loss=3.219163656234741,disc loss=0.6092808842658997, 0:00:06.75\n",
            "Epoch 28, gen loss=3.1378626823425293,disc loss=0.6445007920265198, 0:00:06.74\n",
            "Epoch 29, gen loss=3.2022008895874023,disc loss=0.6156540513038635, 0:00:06.73\n",
            "Epoch 30, gen loss=3.2714154720306396,disc loss=0.5951149463653564, 0:00:06.75\n",
            "Epoch 31, gen loss=3.2773821353912354,disc loss=0.5840416550636292, 0:00:06.76\n",
            "Epoch 32, gen loss=3.307460308074951,disc loss=0.6131048202514648, 0:00:06.78\n",
            "Epoch 33, gen loss=3.3750336170196533,disc loss=0.5404955744743347, 0:00:06.78\n",
            "Epoch 34, gen loss=3.444606065750122,disc loss=0.5811834335327148, 0:00:06.78\n",
            "Epoch 35, gen loss=3.4899072647094727,disc loss=0.5325754880905151, 0:00:06.78\n",
            "Epoch 36, gen loss=3.6196253299713135,disc loss=0.582248330116272, 0:00:06.79\n",
            "Epoch 37, gen loss=3.693645477294922,disc loss=0.6118736267089844, 0:00:06.77\n",
            "Epoch 38, gen loss=3.465965509414673,disc loss=0.5086836814880371, 0:00:06.76\n",
            "Epoch 39, gen loss=3.4690496921539307,disc loss=0.5266580581665039, 0:00:06.78\n",
            "Epoch 40, gen loss=3.550367593765259,disc loss=0.5576773881912231, 0:00:06.79\n",
            "Epoch 41, gen loss=3.763936758041382,disc loss=0.6483629941940308, 0:00:06.76\n",
            "Epoch 42, gen loss=3.6345624923706055,disc loss=0.5748357772827148, 0:00:06.75\n",
            "Epoch 43, gen loss=3.660377025604248,disc loss=0.6293859481811523, 0:00:06.75\n",
            "Epoch 44, gen loss=3.6018927097320557,disc loss=0.49023017287254333, 0:00:06.75\n",
            "Epoch 45, gen loss=3.6170599460601807,disc loss=0.5570845007896423, 0:00:06.76\n",
            "Epoch 46, gen loss=3.8523905277252197,disc loss=0.6378709077835083, 0:00:06.73\n",
            "Epoch 47, gen loss=3.6290018558502197,disc loss=0.4806167781352997, 0:00:06.73\n",
            "Epoch 48, gen loss=3.594602108001709,disc loss=0.577677845954895, 0:00:06.73\n",
            "Epoch 49, gen loss=3.7881600856781006,disc loss=0.49170926213264465, 0:00:06.72\n",
            "Epoch 50, gen loss=3.796013593673706,disc loss=0.5291604399681091, 0:00:06.71\n",
            "Epoch 51, gen loss=3.883516550064087,disc loss=0.44724735617637634, 0:00:06.69\n",
            "Epoch 52, gen loss=3.8638432025909424,disc loss=0.4508174657821655, 0:00:06.71\n",
            "Epoch 53, gen loss=3.830526828765869,disc loss=0.4937165379524231, 0:00:06.70\n",
            "Epoch 54, gen loss=3.888502597808838,disc loss=0.5210602879524231, 0:00:06.71\n",
            "Epoch 55, gen loss=3.8019261360168457,disc loss=0.49359792470932007, 0:00:06.64\n",
            "Epoch 56, gen loss=3.92177152633667,disc loss=0.5120323300361633, 0:00:06.67\n",
            "Epoch 57, gen loss=3.840667963027954,disc loss=0.47081124782562256, 0:00:06.64\n",
            "Epoch 58, gen loss=3.852616786956787,disc loss=0.42985206842422485, 0:00:06.62\n",
            "Epoch 59, gen loss=3.761216163635254,disc loss=0.36900410056114197, 0:00:06.62\n",
            "Epoch 60, gen loss=4.067158222198486,disc loss=0.5609471797943115, 0:00:06.62\n",
            "Epoch 61, gen loss=3.870819091796875,disc loss=0.5004886984825134, 0:00:06.60\n",
            "Epoch 62, gen loss=3.9753103256225586,disc loss=0.39743772149086, 0:00:06.61\n",
            "Epoch 63, gen loss=3.886064052581787,disc loss=0.40194985270500183, 0:00:06.60\n",
            "Epoch 64, gen loss=4.016958713531494,disc loss=0.42760422825813293, 0:00:06.59\n",
            "Epoch 65, gen loss=3.971238374710083,disc loss=0.38842880725860596, 0:00:06.61\n",
            "Epoch 66, gen loss=4.102912425994873,disc loss=0.37025654315948486, 0:00:06.59\n",
            "Epoch 67, gen loss=3.9846889972686768,disc loss=0.46982309222221375, 0:00:06.60\n",
            "Epoch 68, gen loss=4.1234331130981445,disc loss=0.3777393102645874, 0:00:06.61\n",
            "Epoch 69, gen loss=4.254037857055664,disc loss=0.3942006826400757, 0:00:06.59\n",
            "Epoch 70, gen loss=4.29958438873291,disc loss=0.387325257062912, 0:00:06.60\n",
            "Epoch 71, gen loss=4.250161647796631,disc loss=0.38399261236190796, 0:00:06.60\n",
            "Epoch 72, gen loss=4.316651344299316,disc loss=0.4013522267341614, 0:00:06.58\n",
            "Epoch 73, gen loss=4.286423683166504,disc loss=0.38224929571151733, 0:00:06.56\n",
            "Epoch 74, gen loss=4.3179240226745605,disc loss=0.366420716047287, 0:00:06.57\n",
            "Epoch 75, gen loss=4.253608226776123,disc loss=0.34477880597114563, 0:00:06.59\n",
            "Epoch 76, gen loss=4.325594425201416,disc loss=0.4505918323993683, 0:00:06.58\n",
            "Epoch 77, gen loss=4.400236129760742,disc loss=0.38581183552742004, 0:00:06.61\n",
            "Epoch 78, gen loss=4.3160271644592285,disc loss=0.357980877161026, 0:00:06.60\n",
            "Epoch 79, gen loss=4.557678699493408,disc loss=0.4574830234050751, 0:00:06.63\n",
            "Epoch 80, gen loss=4.568479537963867,disc loss=0.34058842062950134, 0:00:06.62\n",
            "Epoch 81, gen loss=4.403292179107666,disc loss=0.3487042784690857, 0:00:06.64\n",
            "Epoch 82, gen loss=4.603111267089844,disc loss=0.37869468331336975, 0:00:06.62\n",
            "Epoch 83, gen loss=4.348365783691406,disc loss=0.3301568627357483, 0:00:06.60\n",
            "Epoch 84, gen loss=4.426504611968994,disc loss=0.33743780851364136, 0:00:06.58\n",
            "Epoch 85, gen loss=4.327642440795898,disc loss=0.3304227292537689, 0:00:06.57\n",
            "Epoch 86, gen loss=4.4506144523620605,disc loss=0.3348809778690338, 0:00:06.58\n",
            "Epoch 87, gen loss=4.583807945251465,disc loss=0.4259851574897766, 0:00:06.58\n",
            "Epoch 88, gen loss=4.522228717803955,disc loss=0.3304136097431183, 0:00:06.57\n",
            "Epoch 89, gen loss=4.592761039733887,disc loss=0.3441561758518219, 0:00:06.57\n",
            "Epoch 90, gen loss=4.542173385620117,disc loss=0.3139471709728241, 0:00:06.59\n",
            "Epoch 91, gen loss=4.530674457550049,disc loss=0.29523494839668274, 0:00:06.61\n",
            "Epoch 92, gen loss=4.865171432495117,disc loss=0.3946446180343628, 0:00:06.62\n",
            "Epoch 93, gen loss=4.722506523132324,disc loss=0.3450542092323303, 0:00:06.61\n",
            "Epoch 94, gen loss=4.584452152252197,disc loss=0.3053365647792816, 0:00:06.60\n",
            "Epoch 95, gen loss=4.63109827041626,disc loss=0.3107829988002777, 0:00:06.60\n",
            "Epoch 96, gen loss=4.666826248168945,disc loss=0.30054157972335815, 0:00:06.61\n",
            "Epoch 97, gen loss=4.8333048820495605,disc loss=0.36731088161468506, 0:00:06.58\n",
            "Epoch 98, gen loss=5.05764627456665,disc loss=0.4163317382335663, 0:00:06.57\n",
            "Epoch 99, gen loss=4.895468711853027,disc loss=0.3762887418270111, 0:00:06.57\n",
            "Epoch 100, gen loss=4.7700910568237305,disc loss=0.329831600189209, 0:00:06.57\n",
            "Training time: 0:13:12.09\n"
          ]
        }
      ],
      "source": [
        "train(train_dataset, EPOCHS)"
      ]
    }
  ],
  "metadata": {
    "colab": {
      "name": "face_generator.ipynb",
      "provenance": [],
      "include_colab_link": true
    },
    "kernelspec": {
      "display_name": "Python 3",
      "name": "python3"
    },
    "language_info": {
      "name": "python"
    },
    "accelerator": "GPU",
    "gpuClass": "standard"
  },
  "nbformat": 4,
  "nbformat_minor": 0
}